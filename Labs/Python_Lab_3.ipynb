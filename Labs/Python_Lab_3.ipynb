{
 "cells": [
  {
   "cell_type": "markdown",
   "metadata": {},
   "source": [
    "# Python_Lab_3\n"
   ]
  },
  {
   "cell_type": "markdown",
   "metadata": {},
   "source": [
    "### Task 1\n",
    "- Write a function named **'create_student_records'** that takes a list of tuples. Each tuple contains a student's name and their scores in three subjects. The function should return a list of dictionaries, where each dictionary represents a student with keys: name, subject1, subject2, subject3. Use list comprehension to create the list of dictionaries."
   ]
  },
  {
   "cell_type": "code",
   "execution_count": 3,
   "metadata": {},
   "outputs": [
    {
     "name": "stdout",
     "output_type": "stream",
     "text": [
      "[{'name': 'John', 'subject1': 80, 'subject2': 90, 'subject3': 80}, {'name': 'Jane', 'subject1': 79, 'subject2': 85, 'subject3': 95}, {'name': 'Smith', 'subject1': 99, 'subject2': 75, 'subject3': 80}, {'name': 'Tom', 'subject1': 80, 'subject2': 80, 'subject3': 90}, {'name': 'Jerry', 'subject1': 99, 'subject2': 85, 'subject3': 95}]\n"
     ]
    }
   ],
   "source": [
    "# write your code here ^_^\n",
    "\n",
    "def create_student_records(student_records):\n",
    "    return [ {'name': record[0], 'subject1': int(record[1]), 'subject2': int(record[2]), 'subject3': int(record[3])} for record in student_records]\n",
    "\n",
    "\n",
    "records = [('John', '80', '90', '80'),\n",
    "           ('Jane', '79', '85', '95'), \n",
    "           ('Smith', '99', '75', '80'), \n",
    "           ('Tom', '80', '80', '90'), \n",
    "           ('Jerry', '99', '85', '95')\n",
    "    ]\n",
    "\n",
    "print(create_student_records(records))\n"
   ]
  },
  {
   "cell_type": "markdown",
   "metadata": {},
   "source": [
    "### Task 2\n",
    "- Write a function named **'filter_and_sort_students'** that takes the list of dictionaries from Question 1 and returns a sorted list of student names who have an average score of 80 or more across all subjects. Sort the names in alphabetical order."
   ]
  },
  {
   "cell_type": "code",
   "execution_count": 4,
   "metadata": {},
   "outputs": [
    {
     "name": "stdout",
     "output_type": "stream",
     "text": [
      "['Jane', 'Jerry', 'John', 'Smith', 'Tom']\n"
     ]
    }
   ],
   "source": [
    "# write your code here ^_^\n",
    "def filter_and_sort_students(create_student_records):\n",
    "    sorted_records = []\n",
    "    \n",
    "    for record in create_student_records:\n",
    "        average = (int(record['subject1']) + int(record['subject2']) + int(record['subject3'])) / 3.0\n",
    "        if average >=  80:\n",
    "            sorted_records.append(record['name'])\n",
    "\n",
    "    return sorted(sorted_records)\n",
    "\n",
    "print(filter_and_sort_students(create_student_records(records)))\n"
   ]
  },
  {
   "cell_type": "markdown",
   "metadata": {},
   "source": [
    "### Task 3\n",
    "- Write a function named **'get_product_info'** that prompts the user to enter information about a product. The function should ask for the product name, product price, and product quantity. If the user enters an invalid input (e.g., a non-numeric value for the price or quantity), the function should handle the error and prompt the user to enter the value again. Return a dictionary containing the product information."
   ]
  },
  {
   "cell_type": "code",
   "execution_count": 3,
   "metadata": {},
   "outputs": [
    {
     "name": "stdout",
     "output_type": "stream",
     "text": [
      "Please enter a valid number\n",
      "Please enter a valid number\n",
      "Please enter a valid number\n",
      "Please enter a valid number\n",
      "Please enter a valid number\n",
      "Please enter a valid number\n",
      "Please enter a valid number\n",
      "Please enter a valid number\n",
      "{'name': 'fsf', 'price': 4.0, 'quantity': 4}\n"
     ]
    }
   ],
   "source": [
    "# write your code here ^_^\n",
    "def get_product_info():\n",
    "\n",
    "    name = input('Enter the product name: ')\n",
    "    price, quantity = -1, -1\n",
    "    while True:\n",
    "        try:\n",
    "            if price == -1:\n",
    "                price = float(input('Enter the product price: '))\n",
    "            if quantity == -1:\n",
    "                quantity = int(input('Enter the product quantity: '))\n",
    "            break\n",
    "\n",
    "        except ValueError:\n",
    "            print('Please enter a valid number')\n",
    "            continue\n",
    "    \n",
    "    return {'name': name, 'price': price, 'quantity': quantity}\n",
    "\n",
    "\n",
    "print(get_product_info())\n",
    "\n",
    "    \n",
    "\n"
   ]
  },
  {
   "cell_type": "markdown",
   "metadata": {},
   "source": [
    "### Task 4\n",
    "- Write a function named **'get_even_numbers'** that takes a list of integers and returns a list of even numbers using list comprehension."
   ]
  },
  {
   "cell_type": "code",
   "execution_count": 4,
   "metadata": {},
   "outputs": [
    {
     "name": "stdout",
     "output_type": "stream",
     "text": [
      "[2, 4, 6, 8, 10]\n"
     ]
    }
   ],
   "source": [
    "# write your code here ^_^\n",
    "\n",
    "def get_even_numbers(numbers):\n",
    "    return [num for num in numbers if num % 2 == 0]\n",
    "\n",
    "numbers = [1, 2, 3, 4, 5, 6, 7, 8, 9, 10]\n",
    "print(get_even_numbers(numbers))"
   ]
  },
  {
   "cell_type": "markdown",
   "metadata": {},
   "source": [
    "### Task 5\n",
    "- Write a function named **'pair_elements'** that takes two lists of equal length as parameters and returns a list of tuples, where each tuple contains corresponding elements from the two lists. Use the zip function to achieve this."
   ]
  },
  {
   "cell_type": "markdown",
   "metadata": {},
   "source": []
  },
  {
   "cell_type": "code",
   "execution_count": 5,
   "metadata": {},
   "outputs": [
    {
     "name": "stdout",
     "output_type": "stream",
     "text": [
      "[(1, 'a'), (2, 'b'), (3, 'c'), (4, 'd'), (5, 'e')]\n"
     ]
    }
   ],
   "source": [
    "# write your code here ^_^\n",
    "\n",
    "def pair_elements(lst1, lst2):\n",
    "    return list(zip(lst1, lst2))\n",
    "\n",
    "lst1 = [1, 2, 3, 4, 5]\n",
    "lst2 = ['a', 'b', 'c', 'd', 'e']\n",
    "print(pair_elements(lst1, lst2))"
   ]
  },
  {
   "cell_type": "markdown",
   "metadata": {},
   "source": [
    "### Task 6\n",
    "- Write a function named **'square_dict_lambda'** that takes a list of integers and returns a dictionary where the keys are the integers and the values are their squares. Use a lambda function within a dictionary comprehension to achieve this."
   ]
  },
  {
   "cell_type": "code",
   "execution_count": 8,
   "metadata": {},
   "outputs": [
    {
     "name": "stdout",
     "output_type": "stream",
     "text": [
      "{1: 1, 2: 4, 3: 9, 4: 16, 5: 25}\n"
     ]
    }
   ],
   "source": [
    "# write your code here ^_^\n",
    "\n",
    "def square_dict_lambda(lst1):\n",
    "    return {num: num ** 2 for num in lst1}\n",
    "\n",
    "lst1 = [1, 2, 3, 4, 5]\n",
    "print(square_dict_lambda(lst1))"
   ]
  }
 ],
 "metadata": {
  "kernelspec": {
   "display_name": "Python 3",
   "language": "python",
   "name": "python3"
  },
  "language_info": {
   "codemirror_mode": {
    "name": "ipython",
    "version": 3
   },
   "file_extension": ".py",
   "mimetype": "text/x-python",
   "name": "python",
   "nbconvert_exporter": "python",
   "pygments_lexer": "ipython3",
   "version": "3.11.9"
  }
 },
 "nbformat": 4,
 "nbformat_minor": 2
}
